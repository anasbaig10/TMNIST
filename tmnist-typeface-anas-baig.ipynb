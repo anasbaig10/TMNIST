{
 "cells": [
  {
   "cell_type": "markdown",
   "id": "1755192b",
   "metadata": {
    "id": "_jNT_tRYBKIh",
    "papermill": {
     "duration": 0.013598,
     "end_time": "2024-04-09T15:21:41.204421",
     "exception": false,
     "start_time": "2024-04-09T15:21:41.190823",
     "status": "completed"
    },
    "tags": []
   },
   "source": [
    "# Introduction\n",
    "\n",
    "> In this tutorial, we will create a neural network type classification model for the TMNIST dataset. We will use various Python libraries such as pandas, numpy, matplotlib, tensorflow, and keras to read in the data, explore it, prepare it for modeling, build and train a neural network, evaluate its performance, and visualize the results.  This tutorial will serve as a great starting point for those who are new to neural network type classification and want to learn how to create and train a basic neural network model. By following the step-by-step guide, you will be able to create your own neural network type classification model for the TMNIST dataset and gain insights into how to evaluate and visualize the model's performance. \n",
    "> 1.  Import necessary libraries\n",
    "> 2.  Read in the data from the URL\n",
    "> 3.  Explore the data\n",
    "> 4.  Prepare the data for modeling\n",
    "> 5.  Build the neural network\n",
    "> 6.  Train the model\n",
    "> 7.  Evaluate the model\n",
    "> 8.  Visualize the results\n",
    "> 9.  View some of the classifications our model performs on the test data\n",
    "\n",
    "> * Dataset Link: [Kaggle](https://www.kaggle.com/datasets/nimishmagre/tmnist-typeface-mnist?select=TMNIST_Data.csv)\n",
    "> This dataset is inspired by the MNIST database for handwritten digits. It consists of images representing digits from 0-9 produced using 2,990 google fonts files.\n",
    ">This file consists of 29,900 examples with labels and font names. Each row contains 786 elements: the first element represents the font name (ex-Chivo-Italic, Sen-Bold), the second element represents the label (a number from 0-9) and the remaining 784 elements represent the grayscale pixel values (from 0-255) for the 28x28 pixel image.\n",
    "\n",
    "\n",
    "\n"
   ]
  },
  {
   "cell_type": "markdown",
   "id": "576f3988",
   "metadata": {
    "id": "-0FlA0hexAMj",
    "papermill": {
     "duration": 0.012287,
     "end_time": "2024-04-09T15:21:41.229554",
     "exception": false,
     "start_time": "2024-04-09T15:21:41.217267",
     "status": "completed"
    },
    "tags": []
   },
   "source": [
    "# Step 1: Importing all necessary libraries\n",
    ">First, we need to import the necessary libraries for working with data, creating a neural network, and visualizing results. In this, we will use pandas, numpy, matplotlib, tensorflow, and keras."
   ]
  },
  {
   "cell_type": "code",
   "execution_count": 1,
   "id": "03e58d63",
   "metadata": {
    "execution": {
     "iopub.execute_input": "2024-04-09T15:21:41.258101Z",
     "iopub.status.busy": "2024-04-09T15:21:41.257219Z",
     "iopub.status.idle": "2024-04-09T15:21:57.401692Z",
     "shell.execute_reply": "2024-04-09T15:21:57.400411Z"
    },
    "id": "5l3vOJr_FOn_",
    "papermill": {
     "duration": 16.163552,
     "end_time": "2024-04-09T15:21:57.405683",
     "exception": false,
     "start_time": "2024-04-09T15:21:41.242131",
     "status": "completed"
    },
    "tags": []
   },
   "outputs": [
    {
     "name": "stderr",
     "output_type": "stream",
     "text": [
      "2024-04-09 15:21:44.859807: E external/local_xla/xla/stream_executor/cuda/cuda_dnn.cc:9261] Unable to register cuDNN factory: Attempting to register factory for plugin cuDNN when one has already been registered\n",
      "2024-04-09 15:21:44.859957: E external/local_xla/xla/stream_executor/cuda/cuda_fft.cc:607] Unable to register cuFFT factory: Attempting to register factory for plugin cuFFT when one has already been registered\n",
      "2024-04-09 15:21:45.046830: E external/local_xla/xla/stream_executor/cuda/cuda_blas.cc:1515] Unable to register cuBLAS factory: Attempting to register factory for plugin cuBLAS when one has already been registered\n"
     ]
    }
   ],
   "source": [
    "# Import necessary libraries\n",
    "import pandas as pd\n",
    "import numpy as np\n",
    "import matplotlib.pyplot as plt\n",
    "import tensorflow as tf\n",
    "from tensorflow import keras"
   ]
  },
  {
   "cell_type": "markdown",
   "id": "9564413f",
   "metadata": {
    "id": "1Jizk5xHyK-b",
    "papermill": {
     "duration": 0.012568,
     "end_time": "2024-04-09T15:21:57.431695",
     "exception": false,
     "start_time": "2024-04-09T15:21:57.419127",
     "status": "completed"
    },
    "tags": []
   },
   "source": [
    "# Step 2: Read Data\n",
    "\n",
    "> Now, we will read in the data from the given URL and store it in a pandas DataFrame."
   ]
  },
  {
   "cell_type": "code",
   "execution_count": 2,
   "id": "56a8c9f7",
   "metadata": {
    "execution": {
     "iopub.execute_input": "2024-04-09T15:21:57.460627Z",
     "iopub.status.busy": "2024-04-09T15:21:57.459911Z",
     "iopub.status.idle": "2024-04-09T15:21:57.485179Z",
     "shell.execute_reply": "2024-04-09T15:21:57.483834Z"
    },
    "papermill": {
     "duration": 0.04323,
     "end_time": "2024-04-09T15:21:57.487655",
     "exception": false,
     "start_time": "2024-04-09T15:21:57.444425",
     "status": "completed"
    },
    "tags": []
   },
   "outputs": [
    {
     "name": "stdout",
     "output_type": "stream",
     "text": [
      "/kaggle/input/tmnist-typeface-mnist/TMNIST_Data.csv\n"
     ]
    }
   ],
   "source": [
    "\n",
    "import os\n",
    "for dirname, _, filenames in os.walk('/kaggle/input'):\n",
    "    for filename in filenames:\n",
    "        print(os.path.join(dirname, filename))"
   ]
  },
  {
   "cell_type": "code",
   "execution_count": 3,
   "id": "86750da3",
   "metadata": {
    "execution": {
     "iopub.execute_input": "2024-04-09T15:21:57.516252Z",
     "iopub.status.busy": "2024-04-09T15:21:57.515494Z",
     "iopub.status.idle": "2024-04-09T15:22:00.651760Z",
     "shell.execute_reply": "2024-04-09T15:22:00.650476Z"
    },
    "id": "v9F6nymwFUsM",
    "outputId": "783eeef8-5a92-4320-b0b1-25e9007d9a03",
    "papermill": {
     "duration": 3.153978,
     "end_time": "2024-04-09T15:22:00.654771",
     "exception": false,
     "start_time": "2024-04-09T15:21:57.500793",
     "status": "completed"
    },
    "tags": []
   },
   "outputs": [
    {
     "data": {
      "text/html": [
       "<div>\n",
       "<style scoped>\n",
       "    .dataframe tbody tr th:only-of-type {\n",
       "        vertical-align: middle;\n",
       "    }\n",
       "\n",
       "    .dataframe tbody tr th {\n",
       "        vertical-align: top;\n",
       "    }\n",
       "\n",
       "    .dataframe thead th {\n",
       "        text-align: right;\n",
       "    }\n",
       "</style>\n",
       "<table border=\"1\" class=\"dataframe\">\n",
       "  <thead>\n",
       "    <tr style=\"text-align: right;\">\n",
       "      <th></th>\n",
       "      <th>names</th>\n",
       "      <th>labels</th>\n",
       "      <th>1</th>\n",
       "      <th>2</th>\n",
       "      <th>3</th>\n",
       "      <th>4</th>\n",
       "      <th>5</th>\n",
       "      <th>6</th>\n",
       "      <th>7</th>\n",
       "      <th>8</th>\n",
       "      <th>...</th>\n",
       "      <th>775</th>\n",
       "      <th>776</th>\n",
       "      <th>777</th>\n",
       "      <th>778</th>\n",
       "      <th>779</th>\n",
       "      <th>780</th>\n",
       "      <th>781</th>\n",
       "      <th>782</th>\n",
       "      <th>783</th>\n",
       "      <th>784</th>\n",
       "    </tr>\n",
       "  </thead>\n",
       "  <tbody>\n",
       "    <tr>\n",
       "      <th>0</th>\n",
       "      <td>GrandHotel-Regular</td>\n",
       "      <td>2</td>\n",
       "      <td>0</td>\n",
       "      <td>0</td>\n",
       "      <td>0</td>\n",
       "      <td>0</td>\n",
       "      <td>0</td>\n",
       "      <td>0</td>\n",
       "      <td>0</td>\n",
       "      <td>0</td>\n",
       "      <td>...</td>\n",
       "      <td>0</td>\n",
       "      <td>0</td>\n",
       "      <td>0</td>\n",
       "      <td>0</td>\n",
       "      <td>0</td>\n",
       "      <td>0</td>\n",
       "      <td>0</td>\n",
       "      <td>0</td>\n",
       "      <td>0</td>\n",
       "      <td>0</td>\n",
       "    </tr>\n",
       "    <tr>\n",
       "      <th>1</th>\n",
       "      <td>EncodeSansCondensed-Medium</td>\n",
       "      <td>8</td>\n",
       "      <td>0</td>\n",
       "      <td>0</td>\n",
       "      <td>0</td>\n",
       "      <td>0</td>\n",
       "      <td>0</td>\n",
       "      <td>0</td>\n",
       "      <td>0</td>\n",
       "      <td>0</td>\n",
       "      <td>...</td>\n",
       "      <td>0</td>\n",
       "      <td>0</td>\n",
       "      <td>0</td>\n",
       "      <td>0</td>\n",
       "      <td>0</td>\n",
       "      <td>0</td>\n",
       "      <td>0</td>\n",
       "      <td>0</td>\n",
       "      <td>0</td>\n",
       "      <td>0</td>\n",
       "    </tr>\n",
       "    <tr>\n",
       "      <th>2</th>\n",
       "      <td>Varela-Regular</td>\n",
       "      <td>4</td>\n",
       "      <td>0</td>\n",
       "      <td>0</td>\n",
       "      <td>0</td>\n",
       "      <td>0</td>\n",
       "      <td>0</td>\n",
       "      <td>0</td>\n",
       "      <td>0</td>\n",
       "      <td>0</td>\n",
       "      <td>...</td>\n",
       "      <td>0</td>\n",
       "      <td>0</td>\n",
       "      <td>0</td>\n",
       "      <td>0</td>\n",
       "      <td>0</td>\n",
       "      <td>0</td>\n",
       "      <td>0</td>\n",
       "      <td>0</td>\n",
       "      <td>0</td>\n",
       "      <td>0</td>\n",
       "    </tr>\n",
       "    <tr>\n",
       "      <th>3</th>\n",
       "      <td>ArefRuqaa-Bold</td>\n",
       "      <td>3</td>\n",
       "      <td>0</td>\n",
       "      <td>0</td>\n",
       "      <td>0</td>\n",
       "      <td>0</td>\n",
       "      <td>0</td>\n",
       "      <td>0</td>\n",
       "      <td>0</td>\n",
       "      <td>0</td>\n",
       "      <td>...</td>\n",
       "      <td>0</td>\n",
       "      <td>0</td>\n",
       "      <td>0</td>\n",
       "      <td>0</td>\n",
       "      <td>0</td>\n",
       "      <td>0</td>\n",
       "      <td>0</td>\n",
       "      <td>0</td>\n",
       "      <td>0</td>\n",
       "      <td>0</td>\n",
       "    </tr>\n",
       "    <tr>\n",
       "      <th>4</th>\n",
       "      <td>KulimPark-Regular</td>\n",
       "      <td>1</td>\n",
       "      <td>0</td>\n",
       "      <td>0</td>\n",
       "      <td>0</td>\n",
       "      <td>0</td>\n",
       "      <td>0</td>\n",
       "      <td>0</td>\n",
       "      <td>0</td>\n",
       "      <td>0</td>\n",
       "      <td>...</td>\n",
       "      <td>0</td>\n",
       "      <td>0</td>\n",
       "      <td>0</td>\n",
       "      <td>0</td>\n",
       "      <td>0</td>\n",
       "      <td>0</td>\n",
       "      <td>0</td>\n",
       "      <td>0</td>\n",
       "      <td>0</td>\n",
       "      <td>0</td>\n",
       "    </tr>\n",
       "  </tbody>\n",
       "</table>\n",
       "<p>5 rows × 786 columns</p>\n",
       "</div>"
      ],
      "text/plain": [
       "                        names  labels  1  2  3  4  5  6  7  8  ...  775  776  \\\n",
       "0          GrandHotel-Regular       2  0  0  0  0  0  0  0  0  ...    0    0   \n",
       "1  EncodeSansCondensed-Medium       8  0  0  0  0  0  0  0  0  ...    0    0   \n",
       "2              Varela-Regular       4  0  0  0  0  0  0  0  0  ...    0    0   \n",
       "3              ArefRuqaa-Bold       3  0  0  0  0  0  0  0  0  ...    0    0   \n",
       "4           KulimPark-Regular       1  0  0  0  0  0  0  0  0  ...    0    0   \n",
       "\n",
       "   777  778  779  780  781  782  783  784  \n",
       "0    0    0    0    0    0    0    0    0  \n",
       "1    0    0    0    0    0    0    0    0  \n",
       "2    0    0    0    0    0    0    0    0  \n",
       "3    0    0    0    0    0    0    0    0  \n",
       "4    0    0    0    0    0    0    0    0  \n",
       "\n",
       "[5 rows x 786 columns]"
      ]
     },
     "execution_count": 3,
     "metadata": {},
     "output_type": "execute_result"
    }
   ],
   "source": [
    "df = pd.read_csv('/kaggle/input/tmnist-typeface-mnist/TMNIST_Data.csv')\n",
    "df.head()"
   ]
  },
  {
   "cell_type": "markdown",
   "id": "ab654ac3",
   "metadata": {
    "id": "m9zco_C5y-b1",
    "papermill": {
     "duration": 0.013207,
     "end_time": "2024-04-09T15:22:00.682113",
     "exception": false,
     "start_time": "2024-04-09T15:22:00.668906",
     "status": "completed"
    },
    "tags": []
   },
   "source": [
    "# Step 3: Explore the data\n",
    "\n",
    "> We will be using various pandas functions to explore the data. \n",
    "Getting information like shape of the dataset, columns and labels."
   ]
  },
  {
   "cell_type": "code",
   "execution_count": 4,
   "id": "bba8479a",
   "metadata": {
    "execution": {
     "iopub.execute_input": "2024-04-09T15:22:00.711138Z",
     "iopub.status.busy": "2024-04-09T15:22:00.710323Z",
     "iopub.status.idle": "2024-04-09T15:22:00.730643Z",
     "shell.execute_reply": "2024-04-09T15:22:00.729342Z"
    },
    "id": "QNg2wYHdITAO",
    "outputId": "cf6fbda3-125f-4f44-be64-b822a5635c6d",
    "papermill": {
     "duration": 0.03832,
     "end_time": "2024-04-09T15:22:00.733936",
     "exception": false,
     "start_time": "2024-04-09T15:22:00.695616",
     "status": "completed"
    },
    "tags": []
   },
   "outputs": [
    {
     "name": "stdout",
     "output_type": "stream",
     "text": [
      "Shape of the dataset: (29900, 786)\n",
      "Column names: Index(['names', 'labels', '1', '2', '3', '4', '5', '6', '7', '8',\n",
      "       ...\n",
      "       '775', '776', '777', '778', '779', '780', '781', '782', '783', '784'],\n",
      "      dtype='object', length=786)\n",
      "Number of unique labels: 10\n",
      "Unique labels:\n"
     ]
    },
    {
     "data": {
      "text/plain": [
       "labels\n",
       "2    2990\n",
       "8    2990\n",
       "4    2990\n",
       "3    2990\n",
       "1    2990\n",
       "6    2990\n",
       "5    2990\n",
       "9    2990\n",
       "7    2990\n",
       "0    2990\n",
       "Name: count, dtype: int64"
      ]
     },
     "execution_count": 4,
     "metadata": {},
     "output_type": "execute_result"
    }
   ],
   "source": [
    "# Get the number of rows and columns in the dataset\n",
    "print(\"Shape of the dataset:\", df.shape)\n",
    "\n",
    "# Get the column names\n",
    "print(\"Column names:\", df.columns)\n",
    "\n",
    "# Get the number of unique values in the \"label\" column\n",
    "print(\"Number of unique labels:\", df['labels'].nunique())\n",
    "\n",
    "print(\"Unique labels:\")\n",
    "df.labels.value_counts()"
   ]
  },
  {
   "cell_type": "markdown",
   "id": "c17bcd30",
   "metadata": {
    "id": "sOBYUXY1j4_T",
    "papermill": {
     "duration": 0.014529,
     "end_time": "2024-04-09T15:22:00.762601",
     "exception": false,
     "start_time": "2024-04-09T15:22:00.748072",
     "status": "completed"
    },
    "tags": []
   },
   "source": [
    "> The dataset has 29,900 observations (rows) and 786 variables (columns). The \"labels\" column is the target variable, which has 10 unique values. The remaining columns, numbered from 1 to 784, likely represent features or attributes of the observations. The number of unique labels is 10, and each label has exactly 2,990 observations, indicating that the dataset is balanced and each class is represented equally."
   ]
  },
  {
   "cell_type": "markdown",
   "id": "7edd05ff",
   "metadata": {
    "id": "613INSMF0You",
    "papermill": {
     "duration": 0.014452,
     "end_time": "2024-04-09T15:22:00.791188",
     "exception": false,
     "start_time": "2024-04-09T15:22:00.776736",
     "status": "completed"
    },
    "tags": []
   },
   "source": [
    "# Step 4: Prepare the data for modeling\n",
    "\n",
    "> We need to prepare the data before we can use it to train a neural network. Here, we will split the dataset into training and testing sets, and then scale the pixel values to be between 0 and 1."
   ]
  },
  {
   "cell_type": "code",
   "execution_count": 5,
   "id": "4db15ad3",
   "metadata": {
    "execution": {
     "iopub.execute_input": "2024-04-09T15:22:00.822659Z",
     "iopub.status.busy": "2024-04-09T15:22:00.822203Z",
     "iopub.status.idle": "2024-04-09T15:22:02.562410Z",
     "shell.execute_reply": "2024-04-09T15:22:02.561370Z"
    },
    "id": "AENHmJDsIkI7",
    "papermill": {
     "duration": 1.75919,
     "end_time": "2024-04-09T15:22:02.565796",
     "exception": false,
     "start_time": "2024-04-09T15:22:00.806606",
     "status": "completed"
    },
    "tags": []
   },
   "outputs": [],
   "source": [
    "# Split the data into training and testing sets\n",
    "from sklearn.model_selection import train_test_split\n",
    "\n",
    "X = df.drop(columns = {'names', 'labels'}, axis=1)\n",
    "y = df['labels']\n",
    "\n",
    "X_train, X_test, y_train, y_test = train_test_split(X, y, test_size=0.2, random_state=42)\n",
    "\n",
    "# Scale the pixel values\n",
    "X_train = X_train / 255.0\n",
    "X_test = X_test / 255.0"
   ]
  },
  {
   "cell_type": "code",
   "execution_count": 6,
   "id": "058e8538",
   "metadata": {
    "execution": {
     "iopub.execute_input": "2024-04-09T15:22:02.601567Z",
     "iopub.status.busy": "2024-04-09T15:22:02.600191Z",
     "iopub.status.idle": "2024-04-09T15:22:02.607278Z",
     "shell.execute_reply": "2024-04-09T15:22:02.606130Z"
    },
    "id": "BTYl2koWJ7T9",
    "outputId": "d67d72f1-9d49-4464-bcef-21930494a766",
    "papermill": {
     "duration": 0.025454,
     "end_time": "2024-04-09T15:22:02.609696",
     "exception": false,
     "start_time": "2024-04-09T15:22:02.584242",
     "status": "completed"
    },
    "tags": []
   },
   "outputs": [
    {
     "name": "stdout",
     "output_type": "stream",
     "text": [
      "(23920, 784) (23920,)\n"
     ]
    }
   ],
   "source": [
    "print(X_train.shape, y_train.shape)"
   ]
  },
  {
   "cell_type": "markdown",
   "id": "50c35b3c",
   "metadata": {
    "id": "m2sMP_jclkG3",
    "papermill": {
     "duration": 0.015099,
     "end_time": "2024-04-09T15:22:02.640492",
     "exception": false,
     "start_time": "2024-04-09T15:22:02.625393",
     "status": "completed"
    },
    "tags": []
   },
   "source": [
    "> X_train has 23920 samples, each with 784 features, and y_train has 23920 labels corresponding to the samples in X_train."
   ]
  },
  {
   "cell_type": "markdown",
   "id": "a97b285e",
   "metadata": {
    "id": "fzc-0YxHpvY-",
    "papermill": {
     "duration": 0.013977,
     "end_time": "2024-04-09T15:22:02.668936",
     "exception": false,
     "start_time": "2024-04-09T15:22:02.654959",
     "status": "completed"
    },
    "tags": []
   },
   "source": [
    "> Further visualising a sample image from our processed data below:\n",
    "\n"
   ]
  },
  {
   "cell_type": "code",
   "execution_count": 7,
   "id": "f710598a",
   "metadata": {
    "execution": {
     "iopub.execute_input": "2024-04-09T15:22:02.700826Z",
     "iopub.status.busy": "2024-04-09T15:22:02.699796Z",
     "iopub.status.idle": "2024-04-09T15:22:02.993729Z",
     "shell.execute_reply": "2024-04-09T15:22:02.992463Z"
    },
    "id": "FAdUX4jfJ2TK",
    "outputId": "c5991bdf-4f16-4630-93ac-8499c915b4af",
    "papermill": {
     "duration": 0.313517,
     "end_time": "2024-04-09T15:22:02.996889",
     "exception": false,
     "start_time": "2024-04-09T15:22:02.683372",
     "status": "completed"
    },
    "tags": []
   },
   "outputs": [
    {
     "data": {
      "image/png": "[encoded data removed]",
      "text/plain": [
       "<Figure size 640x480 with 1 Axes>"
      ]
     },
     "metadata": {},
     "output_type": "display_data"
    }
   ],
   "source": [
    "# Reshape a row of the data into a 28x28 image\n",
    "sample_image = X_train.iloc[1].values.reshape(28, 28)\n",
    "\n",
    "# Plot the image\n",
    "plt.imshow(sample_image, cmap='gray')\n",
    "plt.show()"
   ]
  },
  {
   "cell_type": "markdown",
   "id": "972bc4f4",
   "metadata": {
    "papermill": {
     "duration": 0.018316,
     "end_time": "2024-04-09T15:22:03.035569",
     "exception": false,
     "start_time": "2024-04-09T15:22:03.017253",
     "status": "completed"
    },
    "tags": []
   },
   "source": []
  },
  {
   "cell_type": "markdown",
   "id": "f4710eeb",
   "metadata": {
    "id": "KG7sEe53paFu",
    "papermill": {
     "duration": 0.014196,
     "end_time": "2024-04-09T15:22:03.064605",
     "exception": false,
     "start_time": "2024-04-09T15:22:03.050409",
     "status": "completed"
    },
    "tags": []
   },
   "source": [
    "> The above has reshaped the row into a 28x28 pixel image using the reshape() method and then displayed the handwritten 0 in image using imshow() and show() functions."
   ]
  },
  {
   "cell_type": "markdown",
   "id": "c845c477",
   "metadata": {
    "id": "gPibrBXb00Z-",
    "papermill": {
     "duration": 0.01427,
     "end_time": "2024-04-09T15:22:03.093079",
     "exception": false,
     "start_time": "2024-04-09T15:22:03.078809",
     "status": "completed"
    },
    "tags": []
   },
   "source": [
    "# Step 5: Build the neural network\n",
    "\n",
    "> We will use a simple feedforward neural network with one hidden layer for this classification task.\n",
    "\n"
   ]
  },
  {
   "attachments": {
    "09cade21-324c-43c8-ad35-d172312054ee.png": {
     "image/png": "[encoded data removed]"
    },
    "a59cb9c0-e9da-4545-adbf-07198d318890.jpeg": {
     "image/jpeg": "[encoded data removed]"
    }
   },
   "cell_type": "markdown",
   "id": "36f73fce",
   "metadata": {
    "papermill": {
     "duration": 0.013856,
     "end_time": "2024-04-09T15:22:03.121697",
     "exception": false,
     "start_time": "2024-04-09T15:22:03.107841",
     "status": "completed"
    },
    "tags": []
   },
   "source": [
    "![nn.png](attachment:09cade21-324c-43c8-ad35-d172312054ee.png)![Neural Networks.jpeg](attachment:a59cb9c0-e9da-4545-adbf-07198d318890.jpeg)"
   ]
  },
  {
   "cell_type": "markdown",
   "id": "dd084b29",
   "metadata": {
    "id": "inAtytM8uYTf",
    "papermill": {
     "duration": 0.014501,
     "end_time": "2024-04-09T15:22:03.150573",
     "exception": false,
     "start_time": "2024-04-09T15:22:03.136072",
     "status": "completed"
    },
    "tags": []
   },
   "source": [
    "> A feedforward neural network with two layers in this case: an input layer,  with 784 neurons and a hidden layer with 128 neurons, and an output layer with 10 neurons.\n"
   ]
  },
  {
   "attachments": {
    "71380d8b-4cb6-487b-a12a-b3fc2805aa4b.png": {
     "image/png": "[encoded data removed]"
    }
   },
   "cell_type": "markdown",
   "id": "39859097",
   "metadata": {
    "papermill": {
     "duration": 0.014236,
     "end_time": "2024-04-09T15:22:03.179060",
     "exception": false,
     "start_time": "2024-04-09T15:22:03.164824",
     "status": "completed"
    },
    "tags": []
   },
   "source": [
    "![nn.png](attachment:71380d8b-4cb6-487b-a12a-b3fc2805aa4b.png)"
   ]
  },
  {
   "attachments": {
    "6ffa12c9-f82d-4b6e-bb7d-2eacb21d47b6.gif": {
     "image/gif": "[encoded data removed]"
    }
   },
   "cell_type": "markdown",
   "id": "ea24ba0d",
   "metadata": {
    "papermill": {
     "duration": 0.013846,
     "end_time": "2024-04-09T15:22:03.208302",
     "exception": false,
     "start_time": "2024-04-09T15:22:03.194456",
     "status": "completed"
    },
    "tags": []
   },
   "source": [
    "![NN_1.gif](attachment:6ffa12c9-f82d-4b6e-bb7d-2eacb21d47b6.gif)"
   ]
  },
  {
   "cell_type": "markdown",
   "id": "a8ee47d7",
   "metadata": {
    "id": "scwRFVojuIRX",
    "papermill": {
     "duration": 0.013703,
     "end_time": "2024-04-09T15:22:03.236344",
     "exception": false,
     "start_time": "2024-04-09T15:22:03.222641",
     "status": "completed"
    },
    "tags": []
   },
   "source": [
    "> * Input layer: The first layer that takes in raw input data. In this code, it has 784 neurons, one for each pixel in the image.\n",
    "> * Output layer: The final layer that produces the model's prediction. In this code, it has 10 neurons, one for each possible digit (0-9).\n",
    "> * Hidden layer: Any layer that is not the input or output layer. In this code, there is a single hidden layer with 128 neurons.\n",
    "> * Neuron weights: The weights assigned to each input value of a neuron. These are adjusted during training to improve model performance.\n",
    "> * Neurons: Processing units within a neural network layer that takes in inputs and produces outputs.\n",
    "> * Activation Function: A function that determines the output of a neuron based on the weighted sum of its inputs. In this code, the activation function for the hidden layer is 'relu', and the activation function for the output layer is 'softmax'."
   ]
  },
  {
   "cell_type": "code",
   "execution_count": 8,
   "id": "7d70c16d",
   "metadata": {
    "execution": {
     "iopub.execute_input": "2024-04-09T15:22:03.269794Z",
     "iopub.status.busy": "2024-04-09T15:22:03.269075Z",
     "iopub.status.idle": "2024-04-09T15:22:03.361868Z",
     "shell.execute_reply": "2024-04-09T15:22:03.360627Z"
    },
    "id": "EIa7XoFaJFDq",
    "papermill": {
     "duration": 0.11216,
     "end_time": "2024-04-09T15:22:03.365517",
     "exception": false,
     "start_time": "2024-04-09T15:22:03.253357",
     "status": "completed"
    },
    "tags": []
   },
   "outputs": [
    {
     "name": "stderr",
     "output_type": "stream",
     "text": [
      "/opt/conda/lib/python3.10/site-packages/keras/src/layers/core/dense.py:88: UserWarning: Do not pass an `input_shape`/`input_dim` argument to a layer. When using Sequential models, prefer using an `Input(shape)` object as the first layer in the model instead.\n",
      "  super().__init__(activity_regularizer=activity_regularizer, **kwargs)\n"
     ]
    }
   ],
   "source": [
    "# Define the model\n",
    "model = keras.Sequential([\n",
    "    keras.layers.Dense(128, input_shape=(784,), activation='relu'),\n",
    "    keras.layers.Dense(10, activation='softmax')\n",
    "])\n",
    "\n",
    "# Compile the model\n",
    "model.compile(optimizer='adam', loss='sparse_categorical_crossentropy', metrics=['accuracy'])\n"
   ]
  },
  {
   "cell_type": "markdown",
   "id": "4bc1b311",
   "metadata": {
    "id": "1fqWlztZqycf",
    "papermill": {
     "duration": 0.014138,
     "end_time": "2024-04-09T15:22:03.395027",
     "exception": false,
     "start_time": "2024-04-09T15:22:03.380889",
     "status": "completed"
    },
    "tags": []
   },
   "source": [
    "> This code defines a machine learning model using the Keras library. The model is designed to take in 28x28 pixel images of handwritten digits, which are flattened into a 1D array of 784 numbers. The model has two layers of neurons, one with 128 neurons and the other with 10 neurons, and uses the 'relu' and 'softmax' activation functions respectively.\n",
    "\n",
    "> The model is compiled using the Adam optimizer, which is a popular optimization algorithm for training neural networks. The loss function used to measure the model's performance during training is called 'sparse_categorical_crossentropy', which is a common choice for multi-class classification problems. The model is also set to track the 'accuracy' metric during training, which gives an indication of how well the model is able to predict the correct label for each image."
   ]
  },
  {
   "cell_type": "markdown",
   "id": "79c1ab7e",
   "metadata": {
    "id": "ImMBRAO01-CC",
    "papermill": {
     "duration": 0.015277,
     "end_time": "2024-04-09T15:22:03.425257",
     "exception": false,
     "start_time": "2024-04-09T15:22:03.409980",
     "status": "completed"
    },
    "tags": []
   },
   "source": [
    "# Step 6: Train the model\n",
    "> We can now train the model on the training data."
   ]
  },
  {
   "cell_type": "code",
   "execution_count": 9,
   "id": "41b421fc",
   "metadata": {
    "execution": {
     "iopub.execute_input": "2024-04-09T15:22:03.456482Z",
     "iopub.status.busy": "2024-04-09T15:22:03.456068Z",
     "iopub.status.idle": "2024-04-09T15:22:27.393692Z",
     "shell.execute_reply": "2024-04-09T15:22:27.392571Z"
    },
    "id": "7f969DmVJL38",
    "outputId": "43f31c7d-d699-4ee0-95ac-9c354b0479a3",
    "papermill": {
     "duration": 23.956328,
     "end_time": "2024-04-09T15:22:27.396454",
     "exception": false,
     "start_time": "2024-04-09T15:22:03.440126",
     "status": "completed"
    },
    "tags": []
   },
   "outputs": [
    {
     "name": "stdout",
     "output_type": "stream",
     "text": [
      "Epoch 1/10\n",
      "\u001b[1m598/598\u001b[0m \u001b[32m━━━━━━━━━━━━━━━━━━━━\u001b[0m\u001b[37m\u001b[0m \u001b[1m3s\u001b[0m 4ms/step - accuracy: 0.8784 - loss: 0.4961 - val_accuracy: 0.9645 - val_loss: 0.1323\n",
      "Epoch 2/10\n",
      "\u001b[1m598/598\u001b[0m \u001b[32m━━━━━━━━━━━━━━━━━━━━\u001b[0m\u001b[37m\u001b[0m \u001b[1m2s\u001b[0m 4ms/step - accuracy: 0.9669 - loss: 0.1223 - val_accuracy: 0.9709 - val_loss: 0.1081\n",
      "Epoch 3/10\n",
      "\u001b[1m598/598\u001b[0m \u001b[32m━━━━━━━━━━━━━━━━━━━━\u001b[0m\u001b[37m\u001b[0m \u001b[1m2s\u001b[0m 3ms/step - accuracy: 0.9768 - loss: 0.0884 - val_accuracy: 0.9739 - val_loss: 0.0985\n",
      "Epoch 4/10\n",
      "\u001b[1m598/598\u001b[0m \u001b[32m━━━━━━━━━━━━━━━━━━━━\u001b[0m\u001b[37m\u001b[0m \u001b[1m2s\u001b[0m 3ms/step - accuracy: 0.9820 - loss: 0.0696 - val_accuracy: 0.9755 - val_loss: 0.0883\n",
      "Epoch 5/10\n",
      "\u001b[1m598/598\u001b[0m \u001b[32m━━━━━━━━━━━━━━━━━━━━\u001b[0m\u001b[37m\u001b[0m \u001b[1m2s\u001b[0m 3ms/step - accuracy: 0.9867 - loss: 0.0569 - val_accuracy: 0.9760 - val_loss: 0.0869\n",
      "Epoch 6/10\n",
      "\u001b[1m598/598\u001b[0m \u001b[32m━━━━━━━━━━━━━━━━━━━━\u001b[0m\u001b[37m\u001b[0m \u001b[1m2s\u001b[0m 4ms/step - accuracy: 0.9877 - loss: 0.0475 - val_accuracy: 0.9760 - val_loss: 0.0879\n",
      "Epoch 7/10\n",
      "\u001b[1m598/598\u001b[0m \u001b[32m━━━━━━━━━━━━━━━━━━━━\u001b[0m\u001b[37m\u001b[0m \u001b[1m3s\u001b[0m 3ms/step - accuracy: 0.9905 - loss: 0.0382 - val_accuracy: 0.9766 - val_loss: 0.0856\n",
      "Epoch 8/10\n",
      "\u001b[1m598/598\u001b[0m \u001b[32m━━━━━━━━━━━━━━━━━━━━\u001b[0m\u001b[37m\u001b[0m \u001b[1m3s\u001b[0m 3ms/step - accuracy: 0.9913 - loss: 0.0329 - val_accuracy: 0.9778 - val_loss: 0.0876\n",
      "Epoch 9/10\n",
      "\u001b[1m598/598\u001b[0m \u001b[32m━━━━━━━━━━━━━━━━━━━━\u001b[0m\u001b[37m\u001b[0m \u001b[1m2s\u001b[0m 3ms/step - accuracy: 0.9925 - loss: 0.0295 - val_accuracy: 0.9793 - val_loss: 0.0883\n",
      "Epoch 10/10\n",
      "\u001b[1m598/598\u001b[0m \u001b[32m━━━━━━━━━━━━━━━━━━━━\u001b[0m\u001b[37m\u001b[0m \u001b[1m2s\u001b[0m 4ms/step - accuracy: 0.9927 - loss: 0.0268 - val_accuracy: 0.9824 - val_loss: 0.0770\n"
     ]
    }
   ],
   "source": [
    "# Train the model\n",
    "history = model.fit(X_train, y_train, epochs=10, validation_split=0.2)"
   ]
  },
  {
   "cell_type": "markdown",
   "id": "9f43a8ea",
   "metadata": {
    "id": "z7-gRhaTvS3A",
    "papermill": {
     "duration": 0.049204,
     "end_time": "2024-04-09T15:22:27.496896",
     "exception": false,
     "start_time": "2024-04-09T15:22:27.447692",
     "status": "completed"
    },
    "tags": []
   },
   "source": [
    "> The output shows the training and validation accuracy and loss for a neural network model during each epoch of training. The model is trained for 10 epochs, with the training and validation accuracy gradually improving and the loss decreasing. The final validation accuracy is 98.14%."
   ]
  },
  {
   "cell_type": "markdown",
   "id": "1116c38d",
   "metadata": {
    "id": "B8TkQKlU2H3A",
    "papermill": {
     "duration": 0.048737,
     "end_time": "2024-04-09T15:22:27.594843",
     "exception": false,
     "start_time": "2024-04-09T15:22:27.546106",
     "status": "completed"
    },
    "tags": []
   },
   "source": [
    "# Step 7: Evaluate the model\n",
    "\n",
    "> We can evaluate the model on the test data and see how well it performs."
   ]
  },
  {
   "cell_type": "markdown",
   "id": "69c49aea",
   "metadata": {
    "id": "MleDfK6S2R5L",
    "papermill": {
     "duration": 0.048861,
     "end_time": "2024-04-09T15:22:27.692338",
     "exception": false,
     "start_time": "2024-04-09T15:22:27.643477",
     "status": "completed"
    },
    "tags": []
   },
   "source": [
    "##### **Checking Model Accuracy**\n",
    "\n",
    "> Checking the performance of the model for the data"
   ]
  },
  {
   "cell_type": "code",
   "execution_count": 10,
   "id": "7030e75e",
   "metadata": {
    "execution": {
     "iopub.execute_input": "2024-04-09T15:22:27.855269Z",
     "iopub.status.busy": "2024-04-09T15:22:27.854381Z",
     "iopub.status.idle": "2024-04-09T15:22:28.255817Z",
     "shell.execute_reply": "2024-04-09T15:22:28.254239Z"
    },
    "id": "7oSFrEDZJXHs",
    "outputId": "e8dc3fd8-03d0-4d52-8e6f-20166e147484",
    "papermill": {
     "duration": 0.454925,
     "end_time": "2024-04-09T15:22:28.258420",
     "exception": false,
     "start_time": "2024-04-09T15:22:27.803495",
     "status": "completed"
    },
    "tags": []
   },
   "outputs": [
    {
     "name": "stdout",
     "output_type": "stream",
     "text": [
      "\u001b[1m187/187\u001b[0m \u001b[32m━━━━━━━━━━━━━━━━━━━━\u001b[0m\u001b[37m\u001b[0m \u001b[1m0s\u001b[0m 2ms/step - accuracy: 0.9817 - loss: 0.0948\n",
      "Test accuracy: 0.980434775352478\n"
     ]
    }
   ],
   "source": [
    "# Evaluate the model on the test data\n",
    "test_loss, test_acc = model.evaluate(X_test, y_test)\n",
    "\n",
    "print('Test accuracy:', test_acc)\n"
   ]
  },
  {
   "cell_type": "markdown",
   "id": "4891cdf2",
   "metadata": {
    "id": "jkF_3hcBvadl",
    "papermill": {
     "duration": 0.051165,
     "end_time": "2024-04-09T15:22:28.359723",
     "exception": false,
     "start_time": "2024-04-09T15:22:28.308558",
     "status": "completed"
    },
    "tags": []
   },
   "source": [
    "> The final validation accuracy is ~98%."
   ]
  },
  {
   "cell_type": "markdown",
   "id": "4488355b",
   "metadata": {
    "id": "neFI5xmC2WHn",
    "papermill": {
     "duration": 0.049991,
     "end_time": "2024-04-09T15:22:28.461407",
     "exception": false,
     "start_time": "2024-04-09T15:22:28.411416",
     "status": "completed"
    },
    "tags": []
   },
   "source": [
    "##### **Visualize the results**\n",
    "\n",
    "> We can visualize the training and validation accuracy and loss over the epochs to see how the model performed."
   ]
  },
  {
   "cell_type": "code",
   "execution_count": 11,
   "id": "6b748bb4",
   "metadata": {
    "execution": {
     "iopub.execute_input": "2024-04-09T15:22:28.564151Z",
     "iopub.status.busy": "2024-04-09T15:22:28.563720Z",
     "iopub.status.idle": "2024-04-09T15:22:29.109821Z",
     "shell.execute_reply": "2024-04-09T15:22:29.108596Z"
    },
    "id": "ixb2MQlaJbP2",
    "outputId": "ddd728bb-34f0-4d22-e870-91850df5df8f",
    "papermill": {
     "duration": 0.600636,
     "end_time": "2024-04-09T15:22:29.112523",
     "exception": false,
     "start_time": "2024-04-09T15:22:28.511887",
     "status": "completed"
    },
    "tags": []
   },
   "outputs": [
    {
     "data": {
      "image/png": "[encoded data removed]",
      "text/plain": [
       "<Figure size 640x480 with 1 Axes>"
      ]
     },
     "metadata": {},
     "output_type": "display_data"
    },
    {
     "data": {
      "text/plain": [
       "Text(0.5, 1.0, 'Model loss')"
      ]
     },
     "execution_count": 11,
     "metadata": {},
     "output_type": "execute_result"
    },
    {
     "data": {
      "image/png": "[encoded data removed]",
      "text/plain": [
       "<Figure size 640x480 with 1 Axes>"
      ]
     },
     "metadata": {},
     "output_type": "display_data"
    }
   ],
   "source": [
    "# Plot the training and validation accuracy over the epochs\n",
    "plt.plot(history.history['accuracy'])\n",
    "plt.plot(history.history['val_accuracy'])\n",
    "plt.title('Model accuracy')\n",
    "plt.ylabel('Accuracy')\n",
    "plt.xlabel('Epoch')\n",
    "plt.legend(['Train', 'Validation'], loc='upper left')\n",
    "plt.show()\n",
    "\n",
    "# Plot the training and validation loss over the epochs\n",
    "plt.plot(history.history['loss'])\n",
    "plt.plot(history.history['val_loss'])\n",
    "plt.title('Model loss')"
   ]
  },
  {
   "cell_type": "markdown",
   "id": "07756dbc",
   "metadata": {
    "id": "0-GjvXC-vxVD",
    "papermill": {
     "duration": 0.051463,
     "end_time": "2024-04-09T15:22:29.215913",
     "exception": false,
     "start_time": "2024-04-09T15:22:29.164450",
     "status": "completed"
    },
    "tags": []
   },
   "source": [
    "> * The code is plotting the training and validation accuracy and loss of a neural network model over the epochs.\n",
    "> * The first plot shows the change in accuracy of the model on the training and validation sets over the course of the training process. The \"Train\" line shows the accuracy on the training set, and the \"Validation\" line shows the accuracy on a separate validation set.\n",
    "> * The second plot shows the change in loss of the model on the training and validation sets over the course of the training process. The \"Train\" line shows the loss on the training set, and the \"Validation\" line shows the loss on a separate validation set.\n",
    "> * By monitoring the accuracy and loss of the model during training, we can evaluate its performance and make decisions about how to improve it.\n",
    "\n",
    "\n",
    "\n"
   ]
  },
  {
   "cell_type": "markdown",
   "id": "37d15fdd",
   "metadata": {
    "id": "oViivFA-3TEr",
    "papermill": {
     "duration": 0.0509,
     "end_time": "2024-04-09T15:22:29.318040",
     "exception": false,
     "start_time": "2024-04-09T15:22:29.267140",
     "status": "completed"
    },
    "tags": []
   },
   "source": [
    "## **Visualizing & Viewing test results**\n",
    "\n",
    ">  Let's view some of the classifications our model performs on the test data."
   ]
  },
  {
   "cell_type": "code",
   "execution_count": 12,
   "id": "43b9003b",
   "metadata": {
    "execution": {
     "iopub.execute_input": "2024-04-09T15:22:29.423748Z",
     "iopub.status.busy": "2024-04-09T15:22:29.423308Z",
     "iopub.status.idle": "2024-04-09T15:22:30.954820Z",
     "shell.execute_reply": "2024-04-09T15:22:30.953617Z"
    },
    "id": "dSY-4Ycvlzhm",
    "outputId": "ea8f6099-2f24-4b53-fad6-93bf9f560dba",
    "papermill": {
     "duration": 1.587636,
     "end_time": "2024-04-09T15:22:30.957475",
     "exception": false,
     "start_time": "2024-04-09T15:22:29.369839",
     "status": "completed"
    },
    "tags": []
   },
   "outputs": [
    {
     "name": "stdout",
     "output_type": "stream",
     "text": [
      "\u001b[1m187/187\u001b[0m \u001b[32m━━━━━━━━━━━━━━━━━━━━\u001b[0m\u001b[37m\u001b[0m \u001b[1m0s\u001b[0m 2ms/step\n"
     ]
    },
    {
     "data": {
      "image/png": "[encoded data removed]",
      "text/plain": [
       "<Figure size 2000x800 with 15 Axes>"
      ]
     },
     "metadata": {},
     "output_type": "display_data"
    }
   ],
   "source": [
    "# Get the predicted labels for the test data\n",
    "y_pred = model.predict(X_test)\n",
    "\n",
    "# Plot a random sample of test images with their predicted labels\n",
    "figure = plt.figure(figsize=(20, 8))\n",
    "for i, index in enumerate(np.random.choice(X_test.shape[0], size=15, replace=False)):\n",
    "    ax = figure.add_subplot(3, 5, i + 1, xticks=[], yticks=[])\n",
    "    ax.imshow(np.reshape(X_test.iloc[index].values, (28, 28)), cmap='PuBuGn')\n",
    "    pred_label = np.argmax(y_pred[index])\n",
    "    true_label = y_test.iloc[index]\n",
    "    ax.set_title(\"Predicted: {} | True: {}\".format(pred_label, true_label),\n",
    "                 color=(\"green\" if pred_label == true_label else \"red\"))\n"
   ]
  },
  {
   "cell_type": "markdown",
   "id": "1f73f532",
   "metadata": {
    "id": "Tj-zWAvrwV60",
    "papermill": {
     "duration": 0.052841,
     "end_time": "2024-04-09T15:22:31.065002",
     "exception": false,
     "start_time": "2024-04-09T15:22:31.012161",
     "status": "completed"
    },
    "tags": []
   },
   "source": [
    "> The code outputs a visualization of a random sample of test images with their corresponding predicted and true labels. The predicted labels are obtained using a trained machine learning model. The sample includes 15 images and the predicted label is displayed in green if it matches the true label and red if it doesn't."
   ]
  },
  {
   "cell_type": "markdown",
   "id": "3a8c9e15",
   "metadata": {
    "id": "zLoDstPa8thY",
    "papermill": {
     "duration": 0.053854,
     "end_time": "2024-04-09T15:22:31.172651",
     "exception": false,
     "start_time": "2024-04-09T15:22:31.118797",
     "status": "completed"
    },
    "tags": []
   },
   "source": [
    "# Step 8: Understanding the Overall results\n",
    "\n",
    "> Plotting a confusion matrix to understand which classes are being misclassified and which ones are being classified correctly. Understanding where its inaccurate to see & improve performance"
   ]
  },
  {
   "cell_type": "code",
   "execution_count": 13,
   "id": "0a302ff3",
   "metadata": {
    "execution": {
     "iopub.execute_input": "2024-04-09T15:22:31.281326Z",
     "iopub.status.busy": "2024-04-09T15:22:31.280924Z",
     "iopub.status.idle": "2024-04-09T15:22:32.141416Z",
     "shell.execute_reply": "2024-04-09T15:22:32.140213Z"
    },
    "id": "9_4tbzkuqdhi",
    "outputId": "208f33dc-bedc-45de-d8fc-3c7d344a6263",
    "papermill": {
     "duration": 0.917497,
     "end_time": "2024-04-09T15:22:32.143985",
     "exception": false,
     "start_time": "2024-04-09T15:22:31.226488",
     "status": "completed"
    },
    "tags": []
   },
   "outputs": [
    {
     "data": {
      "image/png": "[encoded data removed]",
      "text/plain": [
       "<Figure size 640x480 with 2 Axes>"
      ]
     },
     "metadata": {},
     "output_type": "display_data"
    }
   ],
   "source": [
    "from sklearn.metrics import confusion_matrix\n",
    "import seaborn as sns\n",
    "\n",
    "\n",
    "# Convert predicted probabilities to class predictions\n",
    "y_pred_classes = np.argmax(y_pred, axis=1)\n",
    "\n",
    "# Convert true labels to one-hot encoded vectors\n",
    "y_test_onehot = tf.keras.utils.to_categorical(y_test, num_classes=10)\n",
    "\n",
    "# Compute the confusion matrix\n",
    "confusion_mtx = confusion_matrix(y_test, y_pred_classes)\n",
    "\n",
    "# Plot the confusion matrix\n",
    "sns.heatmap(confusion_mtx, annot=True, fmt='d', cmap='PuBuGn')\n",
    "plt.xlabel('Predicted label')\n",
    "plt.ylabel('True label')\n",
    "plt.show()\n"
   ]
  },
  {
   "cell_type": "markdown",
   "id": "2b548bcc",
   "metadata": {
    "id": "qb7VIxkGyiHP",
    "papermill": {
     "duration": 0.054096,
     "end_time": "2024-04-09T15:22:32.251988",
     "exception": false,
     "start_time": "2024-04-09T15:22:32.197892",
     "status": "completed"
    },
    "tags": []
   },
   "source": [
    "> * This code computes a confusion matrix from the predicted and true labels of a classification model.\n",
    "> * The predicted labels are converted from predicted probabilities to class predictions, and the true labels are converted to one-hot encoded vectors.\n",
    "> * The confusion matrix is computed using the confusion_matrix function from sklearn.metrics.\n",
    "> * The confusion matrix is plotted using a heatmap from seaborn with annotations for each cell representing the number of samples that fall into that category. The x-axis shows the predicted labels and the y-axis shows the true labels. The plot is color-coded to indicate the density of samples in each cell, with lighter colors indicating higher density."
   ]
  },
  {
   "cell_type": "markdown",
   "id": "8c8febd0",
   "metadata": {
    "id": "0DtJrE1FzKWR",
    "papermill": {
     "duration": 0.053115,
     "end_time": "2024-04-09T15:22:32.358797",
     "exception": false,
     "start_time": "2024-04-09T15:22:32.305682",
     "status": "completed"
    },
    "tags": []
   },
   "source": [
    "# Conclusion\n",
    "\n",
    "> In conclusion, we have successfully created a neural network type classification model for the TMNIST dataset using Python libraries such as pandas, numpy, matplotlib, tensorflow, and keras. We have covered all the necessary steps such as importing libraries, reading in the data, exploring and preparing the data for modeling, building and training a neural network, evaluating its performance, and visualizing the results. Our model achieved an accuracy of 97.90% which is quite impressive. By following this, you can create your own neural network type classification model for the TMNIST dataset and gain insights into how to evaluate and visualize the model's performance.\n",
    "\n",
    "\n",
    "\n"
   ]
  },
  {
   "cell_type": "markdown",
   "id": "c1025867",
   "metadata": {
    "id": "u3Y37ilYzSJR",
    "papermill": {
     "duration": 0.053884,
     "end_time": "2024-04-09T15:22:32.467673",
     "exception": false,
     "start_time": "2024-04-09T15:22:32.413789",
     "status": "completed"
    },
    "tags": []
   },
   "source": [
    "# References\n",
    "\n",
    "\n",
    "1. https://www.turing.com/kb/mathematical-formulation-of-feed-forward-neural-network\n",
    "2. https://towardsdatascience.com/feed-forward-neural-networks-how-to-successfully-build-them-in-python-74503409d99a\n",
    "3. https://pyimagesearch.com/2021/05/06/implementing-feedforward-neural-networks-with-keras-and-tensorflow/\n",
    "4. https://www.kaggle.com/code/swamita/building-cnns-from-scratch-in-pytorch\n",
    "5. https://www.kaggle.com/code/sheshngupta/tminst-character-recognition-94-4-accuracy\n",
    "6. https://www.kaggle.com/datasets/nimishmagre/tmnist-typeface-mnist/code?select=TMNIST_Data.csv\n",
    "7. https://www.kaggle.com/code/sheshngupta/tminst-character-recognition-94-4-accuracy\n",
    "8. https://www.kaggle.com/nimishmagre/tmnist-typeface-mnistLinks.\n",
    "\n",
    "\n",
    "\n",
    "# MIT License\n",
    "> MIT License\n",
    "\n",
    ">Copyright (c) 2024 baiganas\n",
    "\n",
    ">Permission is hereby granted, free of charge, to any person obtaining a copy\n",
    "of this software and associated documentation files (the \"Software\"), to deal\n",
    "in the Software without restriction, including without limitation the rights\n",
    "to use, copy, modify, merge, publish, distribute, sublicense, and/or sell\n",
    "copies of the Software, and to permit persons to whom the Software is\n",
    "furnished to do so, subject to the following conditions:\n",
    "\n",
    ">The above copyright notice and this permission notice shall be included in all\n",
    "copies or substantial portions of the Software.\n",
    "\n",
    ">THE SOFTWARE IS PROVIDED \"AS IS\", WITHOUT WARRANTY OF ANY KIND, EXPRESS OR\n",
    "IMPLIED, INCLUDING BUT NOT LIMITED TO THE WARRANTIES OF MERCHANTABILITY,\n",
    "FITNESS FOR A PARTICULAR PURPOSE AND NONINFRINGEMENT. IN NO EVENT SHALL THE\n",
    "AUTHORS OR COPYRIGHT HOLDERS BE LIABLE FOR ANY CLAIM, DAMAGES OR OTHER\n",
    "LIABILITY, WHETHER IN AN ACTION OF CONTRACT, TORT OR OTHERWISE, ARISING FROM,\n",
    "OUT OF OR IN CONNECTION WITH THE SOFTWARE OR THE USE OR OTHER DEALINGS IN THE\n",
    "SOFTWARE."
   ]
  }
 ],
 "metadata": {
  "kaggle": {
   "accelerator": "none",
   "dataSources": [
    {
     "datasetId": 1552696,
     "sourceId": 2560957,
     "sourceType": "datasetVersion"
    }
   ],
   "isGpuEnabled": false,
   "isInternetEnabled": false,
   "language": "python",
   "sourceType": "notebook"
  },
  "kernelspec": {
   "display_name": "Python 3",
   "language": "python",
   "name": "python3"
  },
  "language_info": {
   "codemirror_mode": {
    "name": "ipython",
    "version": 3
   },
   "file_extension": ".py",
   "mimetype": "text/x-python",
   "name": "python",
   "nbconvert_exporter": "python",
   "pygments_lexer": "ipython3",
   "version": "3.10.13"
  },
  "papermill": {
   "default_parameters": {},
   "duration": 57.216886,
   "end_time": "2024-04-09T15:22:35.237705",
   "environment_variables": {},
   "exception": null,
   "input_path": "__notebook__.ipynb",
   "output_path": "__notebook__.ipynb",
   "parameters": {},
   "start_time": "2024-04-09T15:21:38.020819",
   "version": "2.4.0"
  }
 },
 "nbformat": 4,
 "nbformat_minor": 5
}
